{
 "cells": [
  {
   "cell_type": "markdown",
   "id": "97e7f8f1",
   "metadata": {},
   "source": [
    "# Exercise Background\n",
    "\n",
    "This small application based coding exercise is ment to expose you to the use of the numpy library as well as give you a taste of tasks that you might be needed to perform during machine learning. \n",
    "\n",
    "Usually, machine learning involves working on large data sets. This notebook will walk you through normalising the data and then dividing the data set into smaller subsets. It is recommended that while attempting each of the tasks visit the NumPy library to find the most appropriate function which can help you achieve the desired result. More often than not you will find the functions which you require prewritten in the library. The **numpy library** can be found [here.](https://numpy.org/doc/stable/) \n",
    "\n",
    "Without further ado, the first task is to mean normalise a data set. Mean normalising is a data transformation done to reduce the variations in the data set. For example, consider a data set which has integers between 0 and 10000. That is a lot of variation, and it becomes difficult to build ML algorithms on this data. So mean normalisation is done on such data, after the transformation, the mean of the data will be zero, and standard deviation will be 1.  Even though the actual values of data will change a lot, but the overall variation is still kept intact. If the concept of normalisation feels a bit unclear dont worry all of this will be covered in the future sections of this program. For now, let’s concentrate on the tasks at hand. \n",
    "\n",
    "\n",
    "# Task 1: Mean Normalisation: \n",
    "\n",
    "**Question 1.1** Create a 2D of random integers between 0 and 10,000 (including both 0 and 10,000) with 25000 rows and 15 columns. This will be the dataset you will use in the notebook. "
   ]
  },
  {
   "cell_type": "code",
   "execution_count": 4,
   "id": "6a508629",
   "metadata": {},
   "outputs": [
    {
     "data": {
      "text/plain": [
       "(25000, 15)"
      ]
     },
     "execution_count": 4,
     "metadata": {},
     "output_type": "execute_result"
    }
   ],
   "source": [
    "# import NumPy into Python\n",
    "import numpy as np\n",
    "\n",
    "# Create a 25000 x 15 ndarray with random integers in the interval [0, 10000].\n",
    "X = np.random.randint(0,high = 10001, size = (25000,15))\n",
    "\n",
    "# print the shape of X\n",
    "X.shape"
   ]
  },
  {
   "cell_type": "code",
   "execution_count": 5,
   "id": "216ff585",
   "metadata": {},
   "outputs": [
    {
     "data": {
      "text/plain": [
       "array([9215, 7211, 4336, 4996, 8409, 9557, 6829, 5701, 2831, 7608,  852,\n",
       "       9187, 4573, 5562, 7969])"
      ]
     },
     "execution_count": 5,
     "metadata": {},
     "output_type": "execute_result"
    }
   ],
   "source": [
    "# print the first row of X\n",
    "X[1]"
   ]
  },
  {
   "cell_type": "markdown",
   "id": "ba4ee541",
   "metadata": {},
   "source": [
    "# Now that you created the array we will mean normalize it. The equation for normalisaing the data is given below:\n",
    "\n",
    "$\\mbox{Norm_Col}_i = \\frac{\\mbox{Col}_i - \\mu_i}{\\sigma_i}$\n",
    "\n",
    "where $\\mbox{Col}_i$ is the $i$th column of $X$, $\\mu_i$ is average of the values in the $i$th column of $X$, and $\\sigma_i$ is the standard deviation of the values in the $i$th column of $X$. To put it simply, to find the new value of each element, you have to subtract the mean of respective column form that value and divide the result with the standard deviation of that columns. Now the question is, Why are these operations being done column-wise? That is because usually all the procedures in ML are done column-wise. So it will be beneficial for us to develop the habit of thinking about data column-wise.   "
   ]
  },
  {
   "cell_type": "markdown",
   "id": "65c334f3",
   "metadata": {},
   "source": [
    "# Question 1.2 Find the mean and the standard deviation of each of the columns in the dataset. The result will be two 1D arrays with 15 elements each, representing the mean and standard deviation for each of the columns in the dataset."
   ]
  },
  {
   "cell_type": "code",
   "execution_count": 7,
   "id": "68f278be",
   "metadata": {},
   "outputs": [
    {
     "name": "stdout",
     "output_type": "stream",
     "text": [
      "ave_cols: \n",
      " [5026.81536 5000.85776 4983.82996 5004.51904 5006.515   5002.3372\n",
      " 4984.2302  4977.5878  4977.89708 5013.9376  4985.1866  4987.57092\n",
      " 4968.83788 4990.04928 4988.69896] \n",
      "\n",
      "std_cols: \n",
      " [2883.9564234  2894.24922981 2903.61819453 2896.60837638 2878.97483214\n",
      " 2883.73493078 2894.45030664 2883.13551397 2885.48816242 2875.69759882\n",
      " 2895.01350317 2895.61559555 2879.0363186  2886.96796543 2882.2161891 ] \n",
      "\n"
     ]
    }
   ],
   "source": [
    "# Average of the values in each column of X\n",
    "ave_cols = np.average(X, axis = 0)\n",
    "\n",
    "# print ave_cols\n",
    "print (\"ave_cols: \\n\", ave_cols,\"\\n\")\n",
    "\n",
    "# Standard Deviation of the values in each column of X\n",
    "std_cols = np.std(X, axis = 0)\n",
    "\n",
    "# print std_cols  \n",
    "print (\"std_cols: \\n\", std_cols,\"\\n\")"
   ]
  },
  {
   "cell_type": "markdown",
   "id": "12fa3fe5",
   "metadata": {},
   "source": [
    "# Question 1.3 Print the shape of each both the arrays, they should have 15 elements each"
   ]
  },
  {
   "cell_type": "code",
   "execution_count": 8,
   "id": "74413923",
   "metadata": {},
   "outputs": [
    {
     "name": "stdout",
     "output_type": "stream",
     "text": [
      "(15,)\n",
      "(15,)\n"
     ]
    }
   ],
   "source": [
    "# Print the shape of ave_cols\n",
    "print(ave_cols.shape)\n",
    "# Print the shape of std_cols\n",
    "print(std_cols.shape)"
   ]
  },
  {
   "cell_type": "markdown",
   "id": "308ea201",
   "metadata": {},
   "source": [
    "# Question 1.4 Now that you have mean and standard deviation calculated, it is time to apply the transformation to the dataset.\n",
    "\n",
    "HINT The broadcast property of NumPy can make this a lot easier. You can read about it here. All you have to do is create one row of transformation values and repeat them through all the values."
   ]
  },
  {
   "cell_type": "code",
   "execution_count": 11,
   "id": "632a57c5",
   "metadata": {},
   "outputs": [
    {
     "name": "stdout",
     "output_type": "stream",
     "text": [
      "[[-0.44481094  0.79680154  1.51472051 ... -0.17291824 -1.16629257\n",
      "   1.46807205]\n",
      " [ 1.45223576  0.76363232 -0.22311128 ... -0.13748971  0.19811467\n",
      "   1.03403105]\n",
      " [ 1.35375993 -1.32879288  0.32964735 ...  1.09903515  0.13680468\n",
      "  -1.53586639]\n",
      " ...\n",
      " [-1.35987331 -1.12632241 -1.10580309 ...  0.22374227  1.43678446\n",
      "   0.20237935]\n",
      " [-0.23190897  1.72588531 -0.64086592 ... -0.28510855  1.5978531\n",
      "   1.07323699]\n",
      " [ 1.02816555  1.48575396 -1.48257439 ...  1.17475493  0.02526897\n",
      "  -0.69484689]]\n"
     ]
    }
   ],
   "source": [
    "# Mean normalize X\n",
    "X_norm = (X - ave_cols)/std_cols\n",
    "print(X_norm)"
   ]
  },
  {
   "cell_type": "markdown",
   "id": "a89ba114",
   "metadata": {},
   "source": [
    "# Question 1.5 If the transformation has been performed correctly, the mean of elements in each column will be approximately 0. Also, the average of the minimum value in each column of X_norm and the average of the maximum value in each column of X_norm will have almost the same face value with opposite signs. Let’s confirm if the transformation has happened correctly."
   ]
  },
  {
   "cell_type": "code",
   "execution_count": 13,
   "id": "60388ada",
   "metadata": {},
   "outputs": [
    {
     "name": "stdout",
     "output_type": "stream",
     "text": [
      "-2.3874235921539365e-18\n",
      "-1.729032275711319\n",
      "1.733626638038389\n"
     ]
    }
   ],
   "source": [
    "# Print the average of all the values of X_norm\n",
    "print(np.average(X_norm))\n",
    "\n",
    "# Print the average of the minimum value in each column of X_norm\n",
    "print(np.average(X_norm.min(axis =0)))\n",
    "\n",
    "# Print the average of the maximum value in each column of X_norm\n",
    "print(np.average(X_norm.max(axis = 0)))"
   ]
  },
  {
   "cell_type": "markdown",
   "id": "67f02035",
   "metadata": {},
   "source": [
    "# Be mindful that the exact values might not match since the dataset was initialized using the random function.\n",
    "\n",
    "Data Spliting\n",
    "After data processing, it is a regular practice in ML to split the dataset into three datasets.\n",
    "\n",
    "1.A Training Set\n",
    "2.A Cross Validation Set\n",
    "3.A Test Set\n",
    "The ratios in which the data is split varies a bit from case to case. But the accepted standard 6:2:2 for train, test, and validation respectively. That is 60% for training data and so on. Again why is the data split or what is the signification of these smaller data sets? These questions are better left unanswered for now. The tanks assigned to you is to split the data in the given proportions randomly. For instance, if the data set had ten elements, this is how you would do it."
   ]
  },
  {
   "cell_type": "code",
   "execution_count": 14,
   "id": "5f9d8c90",
   "metadata": {},
   "outputs": [
    {
     "data": {
      "text/plain": [
       "array([5, 2, 4, 0, 7, 8, 3, 1, 9, 6])"
      ]
     },
     "execution_count": 14,
     "metadata": {},
     "output_type": "execute_result"
    }
   ],
   "source": [
    "# We create a random permutation of integers 0 to 9\n",
    "np.random.permutation(10)"
   ]
  },
  {
   "cell_type": "markdown",
   "id": "5d4ae8ed",
   "metadata": {},
   "source": [
    "1.training set = 8,3,7,5,2,6\n",
    "2.Cross Validation Set = 1,9\n",
    "3.Test Set = 0,4"
   ]
  },
  {
   "cell_type": "markdown",
   "id": "04e33f48",
   "metadata": {},
   "source": [
    "Question 2.1 Similarly, create a 1D array representing the indexes of the rows in the dataset X_norm. U can use the np.random.permutation() function for randomising the indexes."
   ]
  },
  {
   "cell_type": "code",
   "execution_count": 15,
   "id": "f07b6c5b",
   "metadata": {},
   "outputs": [],
   "source": [
    "# Create a rank 1 ndarray that contains a random permutation of the row indices of `X_norm`\n",
    "row_indices = np.random.permutation(np.arange(0,25000))"
   ]
  },
  {
   "cell_type": "code",
   "execution_count": 17,
   "id": "583f6a0a",
   "metadata": {},
   "outputs": [
    {
     "name": "stdout",
     "output_type": "stream",
     "text": [
      "(25000,)\n"
     ]
    }
   ],
   "source": [
    "# Print the shape of row_indices\n",
    "print(row_indices.shape)"
   ]
  },
  {
   "cell_type": "markdown",
   "id": "d7355da2",
   "metadata": {},
   "source": [
    "Question 2.2 Split the row indexes in the needed proportions. You can use the slicing methods you have learnt in this session to make the job easier."
   ]
  },
  {
   "cell_type": "code",
   "execution_count": 18,
   "id": "f9a329b9",
   "metadata": {},
   "outputs": [
    {
     "data": {
      "text/plain": [
       "15000.0"
      ]
     },
     "execution_count": 18,
     "metadata": {},
     "output_type": "execute_result"
    }
   ],
   "source": [
    "25000*0.6"
   ]
  },
  {
   "cell_type": "code",
   "execution_count": 19,
   "id": "841a310e",
   "metadata": {},
   "outputs": [
    {
     "data": {
      "text/plain": [
       "5000.0"
      ]
     },
     "execution_count": 19,
     "metadata": {},
     "output_type": "execute_result"
    }
   ],
   "source": [
    "25000*0.2"
   ]
  },
  {
   "cell_type": "code",
   "execution_count": 26,
   "id": "b1368147",
   "metadata": {},
   "outputs": [],
   "source": [
    "# Make any necessary calculations.\n",
    "# You can save your calculations into variables to use later.\n",
    "train = row_indices[:15000]\n",
    "test = row_indices[15000:20000]\n",
    "val  = row_indices[20000:]"
   ]
  },
  {
   "cell_type": "markdown",
   "id": "e6c0ab9e",
   "metadata": {},
   "source": [
    "Question 2.3 Now make use of the indexes that you made to split the data also similarly once the data is split print the shape of each of the smaller data sets. X_train should have 15000 rows and 15 columns. X_test should have 5000 rows and 15 columns. X_val should have 5000 rows and 15 columns."
   ]
  },
  {
   "cell_type": "code",
   "execution_count": 30,
   "id": "d6aa309b",
   "metadata": {},
   "outputs": [],
   "source": [
    "# Create a Training Set\n",
    "X_train = X_norm[train]\n",
    "\n",
    "\n",
    "# Create a Cross Validation Set\n",
    "X_Val = X_norm[test]\n",
    "\n",
    "# Create a Test Set\n",
    "X_test = X_norm[val]"
   ]
  },
  {
   "cell_type": "code",
   "execution_count": 31,
   "id": "7c98ca1a",
   "metadata": {},
   "outputs": [
    {
     "name": "stdout",
     "output_type": "stream",
     "text": [
      "(15000, 15)\n",
      "(5000, 15)\n",
      "(5000, 15)\n"
     ]
    }
   ],
   "source": [
    "# Print the shape of X_train\n",
    "print(X_train.shape)\n",
    "\n",
    "# Print the shape of X_crossVal\n",
    "print(X_Val.shape)\n",
    "\n",
    "# Print the shape of X_test\n",
    "print(X_test.shape)"
   ]
  },
  {
   "cell_type": "code",
   "execution_count": 37,
   "id": "0bb78649",
   "metadata": {},
   "outputs": [
    {
     "name": "stdout",
     "output_type": "stream",
     "text": [
      "[  1   2   3   4   5   6   7   8   9  10  11  12  13  14  15  16  17  18\n",
      "  19  20  21  22  23  24  25  26  27  28  29  30  31  32  33  34  35  36\n",
      "  37  38  39  40  41  42  43  44  45  46  47  48  49  50  51  52  53  54\n",
      "  55  56  57  58  59  60  61  62  63  64  65  66  67  68  69  70  71  72\n",
      "  73  74  75  76  77  78  79  80  81  82  83  84  85  86  87  88  89  90\n",
      "  91  92  93  94  95  96  97  98  99 100 101 102 103 104 105 106 107 108\n",
      " 109 110 111 112 113 114 115 116 117 118 119 120 121 122 123 124 125 126\n",
      " 127 128 129 130 131 132]\n"
     ]
    }
   ],
   "source": [
    "a = np.array(range(1, 11*12+1))\n",
    "print(a)"
   ]
  },
  {
   "cell_type": "code",
   "execution_count": 40,
   "id": "6e87d81f",
   "metadata": {},
   "outputs": [
    {
     "data": {
      "text/plain": [
       "array([[1],\n",
       "       [0],\n",
       "       [0],\n",
       "       [1]])"
      ]
     },
     "execution_count": 40,
     "metadata": {},
     "output_type": "execute_result"
    }
   ],
   "source": [
    "np.eye(2, dtype = int).reshape(4, 1)"
   ]
  },
  {
   "cell_type": "code",
   "execution_count": 43,
   "id": "b2309bb1",
   "metadata": {},
   "outputs": [
    {
     "data": {
      "text/plain": [
       "array([[ True,  True],\n",
       "       [ True,  True]])"
      ]
     },
     "execution_count": 43,
     "metadata": {},
     "output_type": "execute_result"
    }
   ],
   "source": [
    "# What will the output of the following line of code be?\n",
    "\n",
    "np.full((2,2), 1) == np.ones((2,2))\n"
   ]
  },
  {
   "cell_type": "code",
   "execution_count": 44,
   "id": "608a59c7",
   "metadata": {},
   "outputs": [
    {
     "data": {
      "text/plain": [
       "array([ 1,  2,  3,  4,  5,  6,  7,  8,  9, 10])"
      ]
     },
     "execution_count": 44,
     "metadata": {},
     "output_type": "execute_result"
    }
   ],
   "source": [
    "# What will the output of the following code be?\n",
    "\n",
    "import numpy as np\n",
    "a = np.arange(10)\n",
    "f = np.vectorize(lambda x: x+1)\n",
    "f(a)"
   ]
  },
  {
   "cell_type": "code",
   "execution_count": 45,
   "id": "3c34238b",
   "metadata": {},
   "outputs": [
    {
     "name": "stdout",
     "output_type": "stream",
     "text": [
      "8.5\n"
     ]
    }
   ],
   "source": [
    "# What will the output of the following code be?\n",
    "\n",
    "import numpy as np\n",
    "a = np.array( [7, 10, 2, 4, 13, 16])\n",
    "med = np.percentile(a, 50)\n",
    "print(med)"
   ]
  }
 ],
 "metadata": {
  "kernelspec": {
   "display_name": "Python 3 (ipykernel)",
   "language": "python",
   "name": "python3"
  },
  "language_info": {
   "codemirror_mode": {
    "name": "ipython",
    "version": 3
   },
   "file_extension": ".py",
   "mimetype": "text/x-python",
   "name": "python",
   "nbconvert_exporter": "python",
   "pygments_lexer": "ipython3",
   "version": "3.9.13"
  }
 },
 "nbformat": 4,
 "nbformat_minor": 5
}
