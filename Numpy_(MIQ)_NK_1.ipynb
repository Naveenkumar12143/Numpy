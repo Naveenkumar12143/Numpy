{
 "cells": [
  {
   "cell_type": "markdown",
   "id": "6e69fbc1",
   "metadata": {},
   "source": [
    "\"\"\"You are provided with 2 lists that contain the data of an ecommerce website. The first list contains the data for \n",
    "the number of items sold for a particular product and the second list contains the price of the product sold.\n",
    "As a part of this exercise, solve the questions that are provided below.\"\"\""
   ]
  },
  {
   "cell_type": "code",
   "execution_count": 9,
   "id": "825d6eba",
   "metadata": {},
   "outputs": [
    {
     "data": {
      "text/plain": [
       "102"
      ]
     },
     "execution_count": 9,
     "metadata": {},
     "output_type": "execute_result"
    }
   ],
   "source": [
    "number = [8, 9, 9, 1, 6, 9, 5, 7, 3, 9, 7, 3, 4, 8, 3, 5, 8, 4, 8, 7, 5, 7, 3, 6, 1, 2, 7, 4, 7, 7, 8, 4, 3, 4, 2, 2, 2, 7, 3, 5, 6, 1, 1, 3, 2, 1, 1, 7, 7, 1, 4, 4, 5, 6, 1, 2, 7, 4, 5, 8, 1, 4, 8, 6, 2, 4, 3, 7, 3, 6, 2, 3, 3, 3, 2, 4, 6, 8, 9, 3, 9, 3, 1, 8, 6, 6, 3, 3, 9, 4, 6, 4, 9, 6, 7, 1, 2, 8, 7, 8, 1, 4]\n",
    "price = [195, 225, 150, 150, 90, 60, 75, 255, 270, 225, 135, 195, 30, 15, 210, 105, 15, 30, 180, 60, 165, 60, 45, 225, 180, 90, 30, 210, 150, 15, 270, 60, 210, 180, 60, 225, 150, 150, 120, 195, 75, 240, 60, 45, 30, 180, 240, 285, 135, 165, 180, 240, 60, 105, 165, 240, 120, 45, 120, 165, 285, 225, 90, 105, 225, 45, 45, 45, 75, 180, 90, 240, 30, 30, 60, 135, 180, 15, 255, 180, 270, 135, 105, 135, 210, 180, 135, 195, 225, 75, 225, 15, 240, 60, 15, 180, 255, 90, 15, 150, 230, 150]"
   ]
  },
  {
   "cell_type": "markdown",
   "id": "9122f3c8",
   "metadata": {},
   "source": [
    "# How many different products are sold by the company in total"
   ]
  },
  {
   "cell_type": "code",
   "execution_count": 14,
   "id": "efdf6cfc",
   "metadata": {},
   "outputs": [
    {
     "name": "stdout",
     "output_type": "stream",
     "text": [
      "102\n"
     ]
    }
   ],
   "source": [
    "import numpy as np\n",
    "number_arry = np.array(number)\n",
    "print(number_arry.size)"
   ]
  },
  {
   "cell_type": "markdown",
   "id": "be35926d",
   "metadata": {},
   "source": [
    "# How many items were sold in total"
   ]
  },
  {
   "cell_type": "code",
   "execution_count": 15,
   "id": "dfd941d7",
   "metadata": {},
   "outputs": [
    {
     "name": "stdout",
     "output_type": "stream",
     "text": [
      "490\n"
     ]
    }
   ],
   "source": [
    "print(sum(number_arry))"
   ]
  },
  {
   "cell_type": "markdown",
   "id": "da5fdbaf",
   "metadata": {},
   "source": [
    "# What is the average price of the products sold by the ecommerce company"
   ]
  },
  {
   "cell_type": "code",
   "execution_count": 18,
   "id": "4c6513f0",
   "metadata": {},
   "outputs": [
    {
     "name": "stdout",
     "output_type": "stream",
     "text": [
      "139.01960784313727\n"
     ]
    }
   ],
   "source": [
    "price_arry = np.array(price)\n",
    "print(price_arry.mean())"
   ]
  },
  {
   "cell_type": "markdown",
   "id": "edf345a1",
   "metadata": {},
   "source": [
    "# What is the total revenue of the company? [Revenue = Price\\*Quantity]"
   ]
  },
  {
   "cell_type": "code",
   "execution_count": 19,
   "id": "a0c7b3db",
   "metadata": {},
   "outputs": [
    {
     "name": "stdout",
     "output_type": "stream",
     "text": [
      "67100\n"
     ]
    }
   ],
   "source": [
    "print(np.sum(price_arry*number_arry))"
   ]
  },
  {
   "cell_type": "markdown",
   "id": "a36517cb",
   "metadata": {},
   "source": [
    "# What is the price of the costliest item sold?\n"
   ]
  },
  {
   "cell_type": "code",
   "execution_count": 20,
   "id": "041064d5",
   "metadata": {},
   "outputs": [
    {
     "name": "stdout",
     "output_type": "stream",
     "text": [
      "285\n"
     ]
    }
   ],
   "source": [
    "print(price_arry.max())"
   ]
  },
  {
   "cell_type": "markdown",
   "id": "51d2a350",
   "metadata": {},
   "source": [
    "# Demand for the 20th product in the list is more than the 50th product. [True/False]"
   ]
  },
  {
   "cell_type": "code",
   "execution_count": 21,
   "id": "a715e055",
   "metadata": {},
   "outputs": [
    {
     "name": "stdout",
     "output_type": "stream",
     "text": [
      "True\n"
     ]
    }
   ],
   "source": [
    "print(number[19]>number[49])"
   ]
  },
  {
   "cell_type": "markdown",
   "id": "8a76ef40",
   "metadata": {},
   "source": [
    "# How many products fall under the category of expensive goods? An expensive good is that good whose price is more than the average price of the products sold by the company."
   ]
  },
  {
   "cell_type": "code",
   "execution_count": 22,
   "id": "1b05e60a",
   "metadata": {},
   "outputs": [
    {
     "data": {
      "text/plain": [
       "52"
      ]
     },
     "execution_count": 22,
     "metadata": {},
     "output_type": "execute_result"
    }
   ],
   "source": [
    "price_arry[price_arry > price_arry.mean()].size "
   ]
  }
 ],
 "metadata": {
  "kernelspec": {
   "display_name": "Python 3 (ipykernel)",
   "language": "python",
   "name": "python3"
  },
  "language_info": {
   "codemirror_mode": {
    "name": "ipython",
    "version": 3
   },
   "file_extension": ".py",
   "mimetype": "text/x-python",
   "name": "python",
   "nbconvert_exporter": "python",
   "pygments_lexer": "ipython3",
   "version": "3.9.13"
  }
 },
 "nbformat": 4,
 "nbformat_minor": 5
}
